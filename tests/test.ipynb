{
 "cells": [
  {
   "cell_type": "code",
   "execution_count": 8,
   "metadata": {},
   "outputs": [
    {
     "name": "stdout",
     "output_type": "stream",
     "text": [
      "['__annotations__', '__class__', '__class_getitem__', '__del__', '__delattr__', '__dict__', '__dir__', '__doc__', '__enter__', '__eq__', '__exit__', '__format__', '__ge__', '__getattribute__', '__gt__', '__hash__', '__init__', '__init_subclass__', '__le__', '__lt__', '__module__', '__ne__', '__new__', '__orig_bases__', '__parameters__', '__reduce__', '__reduce_ex__', '__repr__', '__setattr__', '__sizeof__', '__slots__', '__str__', '__subclasshook__', '__weakref__', '_actions', '_add_info', '_check_spaces', '_init_info_arrays', '_is_protocol', '_np_random', '_rewards', '_terminateds', '_truncateds', 'action_space', 'call', 'call_async', 'call_wait', 'close', 'close_extras', 'closed', 'copy', 'env_fns', 'envs', 'get_attr', 'is_vector_env', 'metadata', 'np_random', 'num_envs', 'observation_space', 'observations', 'render', 'render_mode', 'reset', 'reset_async', 'reset_wait', 'reward_range', 'seed', 'set_attr', 'single_action_space', 'single_observation_space', 'spec', 'step', 'step_async', 'step_wait', 'unwrapped', 'viewer']\n",
      "1\n",
      "[[0.03132702 0.04127556 0.01066358 0.02294966]]\n",
      "[[ 0.0043625   0.04350724  0.03158535 -0.04972615]]\n"
     ]
    }
   ],
   "source": [
    "import gymnasium as gym\n",
    "\n",
    "\n",
    "def make_env(env_id, seed, idx, capture_video, run_name):\n",
    "    def thunk():\n",
    "        env = gym.make(env_id)\n",
    "        env = gym.wrappers.RecordEpisodeStatistics(env)\n",
    "        if capture_video:\n",
    "            if idx == 0:\n",
    "                env = gym.wrappers.RecordVideo(env, f\"videos/{run_name}\")\n",
    "        # TODO: check how to make seed to env\n",
    "        #env.seed(seed)\n",
    "        env.action_space.seed(seed)\n",
    "        env.observation_space.seed(seed)\n",
    "        env.reset(seed=seed)\n",
    "        return env\n",
    "\n",
    "    return thunk\n",
    "\n",
    "#env = gym.vector.SyncVectorEnv([make_env(\"CartPole-v1\", 0,  0, False, \"test\")])\n",
    "def make_env1(env_name, seed, **kwargs):\n",
    "    def _make():\n",
    "        env = gym.make(env_name, disable_env_checker=True, **kwargs)\n",
    "        env.action_space.seed(seed)\n",
    "        env.reset(seed=seed)\n",
    "        return env\n",
    "\n",
    "    return _make\n",
    "\n",
    "env = gym.vector.SyncVectorEnv([make_env1(\"CartPole-v1\", 0)])\n",
    "print(dir(env))\n",
    "print(env.num_envs)\n",
    "\n",
    "obs, _ = env.reset()\n",
    "print(obs)\n",
    "obs, _ = env.reset()\n",
    "print(obs)\n",
    "\n",
    "length = []\n",
    "start = 0\n",
    "for step in range(500):\n",
    "    obs, reward, done, truncated, infos = env.step(env.action_space.sample())\n",
    "\n",
    "    for idx, d in enumerate(done):\n",
    "        if d:\n",
    "            obs = 0\n",
    "    for trunc in truncated:\n",
    "        pass\n",
    "    # check if done\n",
    "\n",
    "        #print(infos)"
   ]
  },
  {
   "cell_type": "code",
   "execution_count": null,
   "metadata": {},
   "outputs": [
    {
     "data": {
      "text/plain": [
       "deque([array([14.], dtype=float32),\n",
       "       array([18.], dtype=float32),\n",
       "       array([34.], dtype=float32),\n",
       "       array([40.], dtype=float32),\n",
       "       array([19.], dtype=float32),\n",
       "       array([32.], dtype=float32),\n",
       "       array([13.], dtype=float32),\n",
       "       array([20.], dtype=float32),\n",
       "       array([19.], dtype=float32),\n",
       "       array([15.], dtype=float32)])"
      ]
     },
     "execution_count": 24,
     "metadata": {},
     "output_type": "execute_result"
    }
   ],
   "source": [
    "dir(env)\n",
    "dir(env.envs[0])\n",
    "env.envs[0].episode_count\n",
    "#env.envs[0].episode_lengths\n",
    "env.envs[0].return_queue"
   ]
  }
 ],
 "metadata": {
  "kernelspec": {
   "display_name": "base",
   "language": "python",
   "name": "python3"
  },
  "language_info": {
   "codemirror_mode": {
    "name": "ipython",
    "version": 3
   },
   "file_extension": ".py",
   "mimetype": "text/x-python",
   "name": "python",
   "nbconvert_exporter": "python",
   "pygments_lexer": "ipython3",
   "version": "3.8.5"
  },
  "orig_nbformat": 4
 },
 "nbformat": 4,
 "nbformat_minor": 2
}
